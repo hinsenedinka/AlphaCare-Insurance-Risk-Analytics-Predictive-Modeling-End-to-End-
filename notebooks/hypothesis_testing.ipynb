{
 "cells": [
  {
   "cell_type": "code",
   "execution_count": 1,
   "id": "18fb095e",
   "metadata": {},
   "outputs": [],
   "source": [
    "import numpy as np\n",
    "import pandas as pd\n",
    "from scipy import stats\n",
    "import matplotlib.pyplot as plt\n",
    "import seaborn as sns"
   ]
  },
  {
   "cell_type": "markdown",
   "id": "de858e50",
   "metadata": {},
   "source": [
    "**Key Performance Indicators**\n",
    "\n",
    "H₀: There are no risk differences across provinces\n",
    "KPIs: Claim Frequency, Claim Severity\n",
    "\n",
    "H₀: There are no risk differences between zip codes\n",
    "KPIs: Claim Frequency, Claim Severity\n",
    "\n",
    "H₀: There are no significant margin (profit) difference between zip codes\n",
    "KPI: Margin (TotalPremium - TotalClaims)\n",
    "\n",
    "H₀: There are not significant risk difference between Women and Men\n",
    "KPIs: Claim Frequency, Claim Severity"
   ]
  },
  {
   "cell_type": "code",
   "execution_count": null,
   "id": "289751ec",
   "metadata": {},
   "outputs": [
    {
     "name": "stderr",
     "output_type": "stream",
     "text": [
      "C:\\Users\\USER\\AppData\\Local\\Temp\\ipykernel_10876\\3693883365.py:1: DtypeWarning: Columns (4) have mixed types. Specify dtype option on import or set low_memory=False.\n",
      "  Insurance_processed_df = pd.read_csv(r'C:\\Users\\USER\\10 Academy\\AlphaCare-Insurance-Risk-Analytics-Predictive-Modeling-End-to-End-\\data\\processed\\cleaned_insurance_data.csv')\n"
     ]
    },
    {
     "data": {
      "text/plain": [
       "Province\n",
       "gauteng          293756\n",
       "kwazulu-natal    124692\n",
       "western cape     123183\n",
       "north west        96071\n",
       "mpumalanga        26436\n",
       "eastern cape      24785\n",
       "limpopo           16658\n",
       "northern cape      5551\n",
       "free state         4756\n",
       "Name: count, dtype: int64"
      ]
     },
     "execution_count": 6,
     "metadata": {},
     "output_type": "execute_result"
    }
   ],
   "source": [
    "#Loading preprocessed insurance data\n",
    "Insurance_processed_df = pd.read_csv(r'C:\\Users\\USER\\10 Academy\\AlphaCare-Insurance-Risk-Analytics-Predictive-Modeling-End-to-End-\\data\\processed\\cleaned_insurance_data.csv')"
   ]
  },
  {
   "cell_type": "code",
   "execution_count": 10,
   "id": "74aad2f9",
   "metadata": {},
   "outputs": [
    {
     "name": "stdout",
     "output_type": "stream",
     "text": [
      "Original DataFrame head:\n",
      "  TransactionMonth  UnderwrittenCoverID  PolicyID  IsVATRegistered  \\\n",
      "0       2015-03-01               145249     12827             True   \n",
      "1       2015-05-01               145249     12827             True   \n",
      "2       2015-07-01               145249     12827             True   \n",
      "3       2015-05-01               145255     12827             True   \n",
      "4       2015-07-01               145255     12827             True   \n",
      "\n",
      "  Citizenship          LegalType Title Language                 Bank  \\\n",
      "0         NaN  close corporation    mr  english  first national bank   \n",
      "1         NaN  close corporation    mr  english  first national bank   \n",
      "2         NaN  close corporation    mr  english  first national bank   \n",
      "3         NaN  close corporation    mr  english  first national bank   \n",
      "4         NaN  close corporation    mr  english  first national bank   \n",
      "\n",
      "       AccountType  ...              Section                          Product  \\\n",
      "0  current account  ...  motor comprehensive  mobility metered taxis: monthly   \n",
      "1  current account  ...  motor comprehensive  mobility metered taxis: monthly   \n",
      "2  current account  ...  motor comprehensive  mobility metered taxis: monthly   \n",
      "3  current account  ...  motor comprehensive  mobility metered taxis: monthly   \n",
      "4  current account  ...  motor comprehensive  mobility metered taxis: monthly   \n",
      "\n",
      "  StatutoryClass StatutoryRiskType  TotalPremium  TotalClaims  \\\n",
      "0     commercial     ifrs constant     21.929825     0.000000   \n",
      "1     commercial     ifrs constant     21.929825     0.000000   \n",
      "2     commercial     ifrs constant      0.000000  5843.048182   \n",
      "3     commercial     ifrs constant    512.848070  3532.505104   \n",
      "4     commercial     ifrs constant      0.000000     0.000000   \n",
      "\n",
      "  Monthly_Premium_Change Monthly_Claims_Change  HasClaim       Margin  \n",
      "0                    NaN                   NaN         0    21.929825  \n",
      "1               0.000000                   0.0         0    21.929825  \n",
      "2             -21.929825                   0.0         1 -5843.048182  \n",
      "3             512.848070                   0.0         1 -3019.657033  \n",
      "4            -512.848070                   0.0         0     0.000000  \n",
      "\n",
      "[5 rows x 50 columns]\n",
      "\n",
      "Province value counts:\n",
      "Province\n",
      "gauteng          293756\n",
      "kwazulu-natal    124692\n",
      "western cape     123183\n",
      "north west        96071\n",
      "mpumalanga        26436\n",
      "eastern cape      24785\n",
      "limpopo           16658\n",
      "northern cape      5551\n",
      "free state         4756\n",
      "Name: count, dtype: int64\n",
      "\n",
      "Group A (GAUTENG) policies: 0\n",
      "Group B (KWAZULU-NATAL) policies: 0\n",
      "\n",
      "Combined comparison_df head:\n",
      "Empty DataFrame\n",
      "Columns: [TransactionMonth, UnderwrittenCoverID, PolicyID, IsVATRegistered, Citizenship, LegalType, Title, Language, Bank, AccountType, MaritalStatus, Gender, Country, Province, PostalCode, MainCrestaZone, SubCrestaZone, ItemType, mmcode, VehicleType, RegistrationYear, make, Model, Cylinders, cubiccapacity, kilowatts, bodytype, NumberOfDoors, VehicleIntroDate, AlarmImmobiliser, TrackingDevice, CapitalOutstanding, NewVehicle, SumInsured, TermFrequency, CalculatedPremiumPerTerm, ExcessSelected, CoverCategory, CoverType, CoverGroup, Section, Product, StatutoryClass, StatutoryRiskType, TotalPremium, TotalClaims, Monthly_Premium_Change, Monthly_Claims_Change, HasClaim, Margin, Group]\n",
      "Index: []\n",
      "\n",
      "[0 rows x 51 columns]\n"
     ]
    }
   ],
   "source": [
    "# Simulate claims: make KWAZULU-NATAL slightly higher risk for demonstration\n",
    "n_policies = len(Insurance_processed_df)\n",
    "Insurance_processed_df['HasClaim'] = np.random.binomial(1, 0.15, n_policies) # Baseline claim rate\n",
    "Insurance_processed_df.loc[Insurance_processed_df['Province'] == 'KWAZULU-NATAL', 'HasClaim'] = np.random.binomial(1, 0.18, Insurance_processed_df[Insurance_processed_df['Province'] == 'KWAZULU-NATAL'].shape[0])\n",
    "\n",
    "# Simulate TotalClaims amount (only for policies with claims)\n",
    "Insurance_processed_df['TotalClaims'] = Insurance_processed_df['HasClaim'] * np.random.normal(5000, 1500, n_policies)\n",
    "Insurance_processed_df.loc[Insurance_processed_df['TotalClaims'] < 0, 'TotalClaims'] = 0 # Ensure no negative claims\n",
    "\n",
    "# Calculate Margin per policy\n",
    "Insurance_processed_df['Margin'] = Insurance_processed_df['TotalPremium'] - Insurance_processed_df['TotalClaims']\n",
    "\n",
    "print(\"Original DataFrame head:\")\n",
    "print(Insurance_processed_df.head())\n",
    "print(\"\\nProvince value counts:\")\n",
    "print(Insurance_processed_df['Province'].value_counts())\n",
    "# Step 2: Create Control (Group A) and Test (Group B) DataFrames\n",
    "# Now, filter your Insurance_df to create the two groups you want to compare for this specific test.\n",
    "\n",
    "\n",
    "\n",
    "# Select the two provinces for comparison\n",
    "province_A = 'GAUTENG'\n",
    "province_B = 'KWAZULU-NATAL'\n",
    "\n",
    "# Create Group A (Control)\n",
    "group_A_df = Insurance_processed_df[Insurance_processed_df['Province'] == province_A].copy()\n",
    "group_A_df['Group'] = 'A' # Add a group identifier\n",
    "\n",
    "# Create Group B (Test)\n",
    "group_B_df = Insurance_processed_df[Insurance_processed_df['Province'] == province_B].copy()\n",
    "group_B_df['Group'] = 'B' # Add a group identifier\n",
    "\n",
    "# Combine for easier pre-analysis (optional, but often helpful)\n",
    "comparison_df = pd.concat([group_A_df, group_B_df])\n",
    "\n",
    "print(f\"\\nGroup A ({province_A}) policies: {len(group_A_df)}\")\n",
    "print(f\"Group B ({province_B}) policies: {len(group_B_df)}\")\n",
    "print(\"\\nCombined comparison_df head:\")\n",
    "print(comparison_df.head())"
   ]
  },
  {
   "cell_type": "code",
   "execution_count": 14,
   "id": "008030d5",
   "metadata": {},
   "outputs": [
    {
     "name": "stdout",
     "output_type": "stream",
     "text": [
      "\n",
      "Checking balance for: PolicyholderAge\n"
     ]
    },
    {
     "ename": "KeyError",
     "evalue": "'PolicyholderAge'",
     "output_type": "error",
     "traceback": [
      "\u001b[31m---------------------------------------------------------------------------\u001b[39m",
      "\u001b[31mKeyError\u001b[39m                                  Traceback (most recent call last)",
      "\u001b[36mFile \u001b[39m\u001b[32mc:\\Users\\USER\\10 Academy\\AlphaCare-Insurance-Risk-Analytics-Predictive-Modeling-End-to-End-\\.vscode\\Lib\\site-packages\\pandas\\core\\indexes\\base.py:3812\u001b[39m, in \u001b[36mIndex.get_loc\u001b[39m\u001b[34m(self, key)\u001b[39m\n\u001b[32m   3811\u001b[39m \u001b[38;5;28;01mtry\u001b[39;00m:\n\u001b[32m-> \u001b[39m\u001b[32m3812\u001b[39m     \u001b[38;5;28;01mreturn\u001b[39;00m \u001b[38;5;28;43mself\u001b[39;49m\u001b[43m.\u001b[49m\u001b[43m_engine\u001b[49m\u001b[43m.\u001b[49m\u001b[43mget_loc\u001b[49m\u001b[43m(\u001b[49m\u001b[43mcasted_key\u001b[49m\u001b[43m)\u001b[49m\n\u001b[32m   3813\u001b[39m \u001b[38;5;28;01mexcept\u001b[39;00m \u001b[38;5;167;01mKeyError\u001b[39;00m \u001b[38;5;28;01mas\u001b[39;00m err:\n",
      "\u001b[36mFile \u001b[39m\u001b[32mpandas/_libs/index.pyx:167\u001b[39m, in \u001b[36mpandas._libs.index.IndexEngine.get_loc\u001b[39m\u001b[34m()\u001b[39m\n",
      "\u001b[36mFile \u001b[39m\u001b[32mpandas/_libs/index.pyx:196\u001b[39m, in \u001b[36mpandas._libs.index.IndexEngine.get_loc\u001b[39m\u001b[34m()\u001b[39m\n",
      "\u001b[36mFile \u001b[39m\u001b[32mpandas/_libs/hashtable_class_helper.pxi:7088\u001b[39m, in \u001b[36mpandas._libs.hashtable.PyObjectHashTable.get_item\u001b[39m\u001b[34m()\u001b[39m\n",
      "\u001b[36mFile \u001b[39m\u001b[32mpandas/_libs/hashtable_class_helper.pxi:7096\u001b[39m, in \u001b[36mpandas._libs.hashtable.PyObjectHashTable.get_item\u001b[39m\u001b[34m()\u001b[39m\n",
      "\u001b[31mKeyError\u001b[39m: 'PolicyholderAge'",
      "\nThe above exception was the direct cause of the following exception:\n",
      "\u001b[31mKeyError\u001b[39m                                  Traceback (most recent call last)",
      "\u001b[36mCell\u001b[39m\u001b[36m \u001b[39m\u001b[32mIn[14]\u001b[39m\u001b[32m, line 5\u001b[39m\n\u001b[32m      3\u001b[39m \u001b[38;5;28;01mfor\u001b[39;00m var \u001b[38;5;129;01min\u001b[39;00m numerical_confounding_vars:\n\u001b[32m      4\u001b[39m     \u001b[38;5;28mprint\u001b[39m(\u001b[33mf\u001b[39m\u001b[33m\"\u001b[39m\u001b[38;5;130;01m\\n\u001b[39;00m\u001b[33mChecking balance for: \u001b[39m\u001b[38;5;132;01m{\u001b[39;00mvar\u001b[38;5;132;01m}\u001b[39;00m\u001b[33m\"\u001b[39m)\n\u001b[32m----> \u001b[39m\u001b[32m5\u001b[39m     mean_A = \u001b[43mgroup_A_df\u001b[49m\u001b[43m[\u001b[49m\u001b[43mvar\u001b[49m\u001b[43m]\u001b[49m.mean()\n\u001b[32m      6\u001b[39m     std_A = group_A_df[var].std()\n\u001b[32m      7\u001b[39m     mean_B = group_B_df[var].mean()\n",
      "\u001b[36mFile \u001b[39m\u001b[32mc:\\Users\\USER\\10 Academy\\AlphaCare-Insurance-Risk-Analytics-Predictive-Modeling-End-to-End-\\.vscode\\Lib\\site-packages\\pandas\\core\\frame.py:4107\u001b[39m, in \u001b[36mDataFrame.__getitem__\u001b[39m\u001b[34m(self, key)\u001b[39m\n\u001b[32m   4105\u001b[39m \u001b[38;5;28;01mif\u001b[39;00m \u001b[38;5;28mself\u001b[39m.columns.nlevels > \u001b[32m1\u001b[39m:\n\u001b[32m   4106\u001b[39m     \u001b[38;5;28;01mreturn\u001b[39;00m \u001b[38;5;28mself\u001b[39m._getitem_multilevel(key)\n\u001b[32m-> \u001b[39m\u001b[32m4107\u001b[39m indexer = \u001b[38;5;28;43mself\u001b[39;49m\u001b[43m.\u001b[49m\u001b[43mcolumns\u001b[49m\u001b[43m.\u001b[49m\u001b[43mget_loc\u001b[49m\u001b[43m(\u001b[49m\u001b[43mkey\u001b[49m\u001b[43m)\u001b[49m\n\u001b[32m   4108\u001b[39m \u001b[38;5;28;01mif\u001b[39;00m is_integer(indexer):\n\u001b[32m   4109\u001b[39m     indexer = [indexer]\n",
      "\u001b[36mFile \u001b[39m\u001b[32mc:\\Users\\USER\\10 Academy\\AlphaCare-Insurance-Risk-Analytics-Predictive-Modeling-End-to-End-\\.vscode\\Lib\\site-packages\\pandas\\core\\indexes\\base.py:3819\u001b[39m, in \u001b[36mIndex.get_loc\u001b[39m\u001b[34m(self, key)\u001b[39m\n\u001b[32m   3814\u001b[39m     \u001b[38;5;28;01mif\u001b[39;00m \u001b[38;5;28misinstance\u001b[39m(casted_key, \u001b[38;5;28mslice\u001b[39m) \u001b[38;5;129;01mor\u001b[39;00m (\n\u001b[32m   3815\u001b[39m         \u001b[38;5;28misinstance\u001b[39m(casted_key, abc.Iterable)\n\u001b[32m   3816\u001b[39m         \u001b[38;5;129;01mand\u001b[39;00m \u001b[38;5;28many\u001b[39m(\u001b[38;5;28misinstance\u001b[39m(x, \u001b[38;5;28mslice\u001b[39m) \u001b[38;5;28;01mfor\u001b[39;00m x \u001b[38;5;129;01min\u001b[39;00m casted_key)\n\u001b[32m   3817\u001b[39m     ):\n\u001b[32m   3818\u001b[39m         \u001b[38;5;28;01mraise\u001b[39;00m InvalidIndexError(key)\n\u001b[32m-> \u001b[39m\u001b[32m3819\u001b[39m     \u001b[38;5;28;01mraise\u001b[39;00m \u001b[38;5;167;01mKeyError\u001b[39;00m(key) \u001b[38;5;28;01mfrom\u001b[39;00m\u001b[38;5;250m \u001b[39m\u001b[34;01merr\u001b[39;00m\n\u001b[32m   3820\u001b[39m \u001b[38;5;28;01mexcept\u001b[39;00m \u001b[38;5;167;01mTypeError\u001b[39;00m:\n\u001b[32m   3821\u001b[39m     \u001b[38;5;66;03m# If we have a listlike key, _check_indexing_error will raise\u001b[39;00m\n\u001b[32m   3822\u001b[39m     \u001b[38;5;66;03m#  InvalidIndexError. Otherwise we fall through and re-raise\u001b[39;00m\n\u001b[32m   3823\u001b[39m     \u001b[38;5;66;03m#  the TypeError.\u001b[39;00m\n\u001b[32m   3824\u001b[39m     \u001b[38;5;28mself\u001b[39m._check_indexing_error(key)\n",
      "\u001b[31mKeyError\u001b[39m: 'PolicyholderAge'"
     ]
    }
   ],
   "source": [
    "numerical_confounding_vars = ['PolicyholderAge'] # Add others as needed\n",
    "\n",
    "for var in numerical_confounding_vars:\n",
    "    print(f\"\\nChecking balance for: {var}\")\n",
    "    mean_A = group_A_df[var].mean()\n",
    "    std_A = group_A_df[var].std()\n",
    "    mean_B = group_B_df[var].mean()\n",
    "    std_B = group_B_df[var].std()\n",
    "\n",
    "    print(f\"  Group A ({province_A}) - Mean {var}: {mean_A:.2f}, Std Dev: {std_A:.2f}\")\n",
    "    print(f\"  Group B ({province_B}) - Mean {var}: {mean_B:.2f}, Std Dev: {std_B:.2f}\")\n",
    "\n",
    "    # Perform Independent Samples t-test\n",
    "    stat, p_value = stats.ttest_ind(group_A_df[var], group_B_df[var], equal_var=False) # Welch's t-test, generally safer\n",
    "\n",
    "    print(f\"  T-test p-value: {p_value:.4f}\")\n",
    "    if p_value > 0.05:\n",
    "        print(f\"  Result: Groups are statistically similar on {var} (Fail to reject H₀). Good!\")\n",
    "    else:\n",
    "        print(f\"  Result: Groups are statistically different on {var} (Reject H₀). Concern! Requires further investigation or adjustment.\")\n",
    "\n",
    "    sns.histplot(data=comparison_df, x=var, hue='Group', kde=True)\n",
    "    plt.title(f'Distribution of {var} by Group')\n",
    "    plt.show()"
   ]
  },
  {
   "cell_type": "code",
   "execution_count": null,
   "id": "0acde303",
   "metadata": {},
   "outputs": [],
   "source": []
  },
  {
   "cell_type": "code",
   "execution_count": 12,
   "id": "21e667df",
   "metadata": {},
   "outputs": [
    {
     "data": {
      "text/plain": [
       "Index(['TransactionMonth', 'UnderwrittenCoverID', 'PolicyID',\n",
       "       'IsVATRegistered', 'Citizenship', 'LegalType', 'Title', 'Language',\n",
       "       'Bank', 'AccountType', 'MaritalStatus', 'Gender', 'Country', 'Province',\n",
       "       'PostalCode', 'MainCrestaZone', 'SubCrestaZone', 'ItemType', 'mmcode',\n",
       "       'VehicleType', 'RegistrationYear', 'make', 'Model', 'Cylinders',\n",
       "       'cubiccapacity', 'kilowatts', 'bodytype', 'NumberOfDoors',\n",
       "       'VehicleIntroDate', 'AlarmImmobiliser', 'TrackingDevice',\n",
       "       'CapitalOutstanding', 'NewVehicle', 'SumInsured', 'TermFrequency',\n",
       "       'CalculatedPremiumPerTerm', 'ExcessSelected', 'CoverCategory',\n",
       "       'CoverType', 'CoverGroup', 'Section', 'Product', 'StatutoryClass',\n",
       "       'StatutoryRiskType', 'TotalPremium', 'TotalClaims',\n",
       "       'Monthly_Premium_Change', 'Monthly_Claims_Change', 'HasClaim',\n",
       "       'Margin'],\n",
       "      dtype='object')"
      ]
     },
     "execution_count": 12,
     "metadata": {},
     "output_type": "execute_result"
    }
   ],
   "source": [
    "Insurance_processed_df.columns"
   ]
  },
  {
   "cell_type": "code",
   "execution_count": null,
   "id": "302e5f6e",
   "metadata": {},
   "outputs": [],
   "source": []
  }
 ],
 "metadata": {
  "kernelspec": {
   "display_name": ".vscode",
   "language": "python",
   "name": "python3"
  },
  "language_info": {
   "codemirror_mode": {
    "name": "ipython",
    "version": 3
   },
   "file_extension": ".py",
   "mimetype": "text/x-python",
   "name": "python",
   "nbconvert_exporter": "python",
   "pygments_lexer": "ipython3",
   "version": "3.13.5"
  }
 },
 "nbformat": 4,
 "nbformat_minor": 5
}
