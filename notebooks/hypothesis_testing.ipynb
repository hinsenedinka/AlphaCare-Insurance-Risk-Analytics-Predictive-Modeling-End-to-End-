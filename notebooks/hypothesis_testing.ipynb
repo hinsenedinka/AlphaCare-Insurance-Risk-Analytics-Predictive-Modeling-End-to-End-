{
 "cells": [
  {
   "cell_type": "code",
   "execution_count": 1,
   "id": "18fb095e",
   "metadata": {},
   "outputs": [],
   "source": [
    "import numpy as np\n",
    "import pandas as pd\n",
    "from scipy import stats\n",
    "import matplotlib.pyplot as plt\n",
    "import seaborn as sns"
   ]
  },
  {
   "cell_type": "markdown",
   "id": "de858e50",
   "metadata": {},
   "source": [
    "**Key Performance Indicators**\n",
    "\n",
    "H₀: There are no risk differences across provinces\n",
    "KPIs: Claim Frequency, Claim Severity\n",
    "\n",
    "H₀: There are no risk differences between zip codes\n",
    "KPIs: Claim Frequency, Claim Severity\n",
    "\n",
    "H₀: There are no significant margin (profit) difference between zip codes\n",
    "KPI: Margin (TotalPremium - TotalClaims)\n",
    "\n",
    "H₀: There are not significant risk difference between Women and Men\n",
    "KPIs: Claim Frequency, Claim Severity"
   ]
  },
  {
   "cell_type": "code",
   "execution_count": null,
   "id": "289751ec",
   "metadata": {},
   "outputs": [],
   "source": []
  }
 ],
 "metadata": {
  "kernelspec": {
   "display_name": ".vscode",
   "language": "python",
   "name": "python3"
  },
  "language_info": {
   "codemirror_mode": {
    "name": "ipython",
    "version": 3
   },
   "file_extension": ".py",
   "mimetype": "text/x-python",
   "name": "python",
   "nbconvert_exporter": "python",
   "pygments_lexer": "ipython3",
   "version": "3.13.5"
  }
 },
 "nbformat": 4,
 "nbformat_minor": 5
}
